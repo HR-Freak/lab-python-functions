{
 "cells": [
  {
   "cell_type": "markdown",
   "id": "25d7736c-ba17-4aff-b6bb-66eba20fbf4e",
   "metadata": {},
   "source": [
    "# Lab | Functions"
   ]
  },
  {
   "cell_type": "markdown",
   "id": "0c581062-8967-4d93-b06e-62833222f930",
   "metadata": {
    "tags": []
   },
   "source": [
    "## Exercise: Managing Customer Orders with Functions\n",
    "\n",
    "In the previous exercise, you improved the code for managing customer orders by using loops and flow control. Now, let's take it a step further and refactor the code by introducing functions.\n",
    "\n",
    "Follow the steps below to complete the exercise:\n",
    "\n",
    "1. Define a function named `initialize_inventory` that takes `products` as a parameter. Inside the function, implement the code for initializing the inventory dictionary using a loop and user input.\n",
    "\n",
    "2. Define a function named `get_customer_orders` that takes no parameters. Inside the function, implement the code for prompting the user to enter the product names using a loop. The function should return the `customer_orders` set.\n",
    "\n",
    "3. Define a function named `update_inventory` that takes `customer_orders` and `inventory` as parameters. Inside the function, implement the code for updating the inventory dictionary based on the customer orders.\n",
    "\n",
    "4. Define a function named `calculate_order_statistics` that takes `customer_orders` and `products` as parameters. Inside the function, implement the code for calculating the order statistics (total products ordered, and percentage of unique products ordered). The function should return these values.\n",
    "\n",
    "5. Define a function named `print_order_statistics` that takes `order_statistics` as a parameter. Inside the function, implement the code for printing the order statistics.\n",
    "\n",
    "6. Define a function named `print_updated_inventory` that takes `inventory` as a parameter. Inside the function, implement the code for printing the updated inventory.\n",
    "\n",
    "7. Call the functions in the appropriate sequence to execute the program and manage customer orders.\n",
    "\n",
    "Hints for functions:\n",
    "\n",
    "- Consider the input parameters required for each function and their return values.\n",
    "- Utilize function parameters and return values to transfer data between functions.\n",
    "- Test your functions individually to ensure they work correctly.\n",
    "\n",
    "\n"
   ]
  },
  {
   "cell_type": "code",
   "execution_count": 28,
   "id": "88697088",
   "metadata": {},
   "outputs": [],
   "source": [
    "def initialize_inventory(products): #defines the starting inventory and its products\n",
    "    inventory = {}\n",
    "    print(\"quantity available of each product:\")\n",
    "    for item in products:\n",
    "        while True:\n",
    "            quantity = input(f\"  {item}: \").strip()\n",
    "        if quantity.isdigit():                     \n",
    "            inventory[item] = int(quantity)\n",
    "            break\n",
    "        print(\"  please enter a non-negative number.\") \n",
    "    return inventory #initializes the inventory with user input"
   ]
  },
  {
   "cell_type": "code",
   "execution_count": 29,
   "id": "d15eadfc",
   "metadata": {},
   "outputs": [],
   "source": [
    "def get_costumer_orders(): #takes the orders from the costumers without parameters\n",
    "    customer_orders = set()\n",
    "    add_another = 'y'\n",
    "    while add_another.lower() == 'y':\n",
    "        product_name = input(\"Enter the product name to order: \")\n",
    "        customer_orders.add(product_name)\n",
    "        add_another = input(\"Do you want to add another product? (y/n): \")\n",
    "    return customer_orders #returns the set of ordered products\n",
    "    "
   ]
  },
  {
   "cell_type": "code",
   "execution_count": 30,
   "id": "c8d1e647",
   "metadata": {},
   "outputs": [],
   "source": [
    "def update_inventory(inventory, orders): #updates the inventory based on the orders taken\n",
    "    for item in products:\n",
    "        if item in orders:\n",
    "            inventory[item] -= orders[item]\n",
    "    return inventory #returns the updated inventory"
   ]
  },
  {
   "cell_type": "code",
   "execution_count": 31,
   "id": "e1045362",
   "metadata": {},
   "outputs": [],
   "source": [
    "def calculate_order_statitics(customer_orders, products): #calculates the total items ordered and the average items per product\n",
    "    total_products_ordered = len(customer_orders)\n",
    "    percentage_ordered = (total_products_ordered / len(products)) * 100\n",
    "    return total_products_ordered, percentage_ordered #returns the total items ordered and the average"
   ]
  },
  {
   "cell_type": "code",
   "execution_count": 32,
   "id": "37c05593",
   "metadata": {},
   "outputs": [],
   "source": [
    "def print_order_statistics(total_products_ordered, percentage_ordered): #prints the order statistics\n",
    "    print(f\"Total products ordered: {total_products_ordered}\")\n",
    "    print(f\"Percentage of products ordered: {percentage_ordered:.2f}%\")"
   ]
  },
  {
   "cell_type": "code",
   "execution_count": 33,
   "id": "ff04cbd2",
   "metadata": {},
   "outputs": [],
   "source": [
    "def print_updated_inventory(inventory): #prints the updated inventory\n",
    "    print(\"Updated inventory:\")\n",
    "    for item in products:\n",
    "        print(f\"  {item}: {inventory[item]}\")"
   ]
  }
 ],
 "metadata": {
  "kernelspec": {
   "display_name": "base",
   "language": "python",
   "name": "python3"
  },
  "language_info": {
   "codemirror_mode": {
    "name": "ipython",
    "version": 3
   },
   "file_extension": ".py",
   "mimetype": "text/x-python",
   "name": "python",
   "nbconvert_exporter": "python",
   "pygments_lexer": "ipython3",
   "version": "3.13.5"
  }
 },
 "nbformat": 4,
 "nbformat_minor": 5
}
